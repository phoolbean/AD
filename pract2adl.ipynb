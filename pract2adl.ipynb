{
  "nbformat": 4,
  "nbformat_minor": 0,
  "metadata": {
    "colab": {
      "provenance": []
    },
    "kernelspec": {
      "name": "python3",
      "display_name": "Python 3"
    },
    "language_info": {
      "name": "python"
    }
  },
  "cells": [
    {
      "cell_type": "markdown",
      "source": [
        "L2 and L1"
      ],
      "metadata": {
        "id": "fQlEYiyvkRQg"
      }
    },
    {
      "cell_type": "code",
      "source": [
        "import tensorflow as tf\n",
        "from tensorflow import keras\n",
        "from tensorflow.keras import *\n",
        "from keras.layers import *\n",
        "from tensorflow.keras.models import *\n",
        "import matplotlib. pyplot as pit\n",
        "%matplotlib inline\n",
        "import numpy as np"
      ],
      "metadata": {
        "id": "Y_UYpBj2kJoA"
      },
      "execution_count": null,
      "outputs": []
    },
    {
      "cell_type": "code",
      "source": [
        "from keras.utils.vis_utils import plot_model\n",
        "model = Sequential()\n",
        "model.add (Dense(80, input_dim=3, activation='tanh', kernel_regularizer=regularizers.l2(0.001), kernel_initializer='he_uniform'))\n",
        "model.add(Dropout (0.5))\n",
        "model.add(Dense(80, activation='tanh', kernel_regularizer=regularizers.l2(0.001)))\n",
        "model.add(Dropout (0.5))\n",
        "model.add(Dense(40, activation='tanh', kernel_regularizer=regularizers.l2(0.001)))\n",
        "model.add(Dropout (0.5))\n",
        "model.add(Dense(40, activation='tanh', kernel_regularizer=regularizers.l2(0.001)))\n",
        "model.add(Dropout (0.5))\n",
        "model.add(Dense(1, activation='sigmoid'))"
      ],
      "metadata": {
        "id": "xvYvwKfHCGCh"
      },
      "execution_count": null,
      "outputs": []
    },
    {
      "cell_type": "code",
      "source": [
        "from keras.utils.vis_utils import plot_model\n",
        "model = Sequential()\n",
        "model.add(Dense (80, input_dim=3, activation='tanh', kernel_regularizer=regularizers.l1(0.001), kernel_initializer='he_uniform'))\n",
        "model.add(Dropout (0,5))\n",
        "model.add(Dense (80, activation='tanh', kernel_regularizer=regularizers.l1(0.001)))\n",
        "model.add(Dropout (0,5))\n",
        "model.add(Dense (40, activation='tanh', kernel_regularizer=regularizers.l1(0.001)))\n",
        "model.add(Dropout (0,5))\n",
        "model.add(Dense(40, activation='tanh', kernel_regularizer=regularizers.l1(0.001)))\n",
        "model.add(Dropout (0.5))\n",
        "model.add(Dense(1, activation='sigmoid'))\n"
      ],
      "metadata": {
        "id": "yz9o5dhxDQUE"
      },
      "execution_count": null,
      "outputs": []
    },
    {
      "cell_type": "markdown",
      "source": [
        "Data Augmentation"
      ],
      "metadata": {
        "id": "ZR0QhVvLkB4u"
      }
    },
    {
      "cell_type": "code",
      "source": [
        "from keras.preprocessing.image import ImageDataGenerator\n",
        "from skimage import io\n",
        "datagen = ImageDataGenerator(        \n",
        "            rotation_range=45,\n",
        "            width_shift_range=0.2,  \n",
        "            height_shift_range=0.2,    \n",
        "            shear_range=0.2,        \n",
        "            zoom_range=0.2,        \n",
        "            horizontal_flip=True,         \n",
        "            fill_mode='constant', cval=125)\n",
        "x = io.imread('/content/img.jpg')\n",
        "x = x.reshape((1, ) + x.shape)\n",
        "i = 0\n",
        "for batch in datagen.flow(x, batch_size=16,\n",
        "                          save_to_dir='/content/sample_data',\n",
        "                          save_prefix='aug',\n",
        "                          save_format='png'):    \n",
        "  i += 1    \n",
        "  if i > 20:        \n",
        "     break\n"
      ],
      "metadata": {
        "id": "uHkeGwAGTUN1"
      },
      "execution_count": null,
      "outputs": []
    },
    {
      "cell_type": "markdown",
      "source": [
        "Dropout"
      ],
      "metadata": {
        "id": "kX50tNs-kaMp"
      }
    },
    {
      "cell_type": "code",
      "source": [
        "# mlp overfit on the two circles dataset\n",
        "from sklearn.datasets import make_circles\n",
        "from keras.layers import Dense\n",
        "from keras.models import Sequential\n",
        "from matplotlib import pyplot\n",
        "\n",
        "# generate 2d classification dataset\n",
        "X, y = make_circles(n_samples=100, noise=0.1, random_state=1)\n",
        "\n",
        "# split into train and test\n",
        "n_train = 30\n",
        "trainX, testX = X[:n_train, :], X[n_train:, :]\n",
        "trainy, testy = y[:n_train], y[n_train:]\n",
        "\n",
        "# define model\n",
        "model = Sequential()\n",
        "model.add(Dense(500, input_dim=2, activation='relu'))\n",
        "model.add(Dense(1, activation='sigmoid'))\n",
        "model.compile(loss='binary_crossentropy', optimizer='adam', metrics=['accuracy'])\n",
        "\n",
        "# fit model\n",
        "history = model.fit(trainX, trainy, validation_data=(testX, testy), epochs=4000, verbose=0)\n",
        "\n",
        "# evaluate the model\n",
        "_, train_acc = model.evaluate(trainX, trainy, verbose=0)\n",
        "_, test_acc = model.evaluate(testX, testy, verbose=0)\n",
        "print('Train: %.3f, Test: %.3f' % (train_acc, test_acc))\n",
        "\n",
        "# plot history\n",
        "pyplot.plot(history.history['accuracy'], label='train')\n",
        "pyplot.plot(history.history['val_accuracy'], label='test')\n",
        "pyplot.legend()\n",
        "pyplot.show()\n"
      ],
      "metadata": {
        "colab": {
          "base_uri": "https://localhost:8080/",
          "height": 282
        },
        "id": "z1Bz5CtMkc48",
        "outputId": "33894451-6ea0-4bcf-f458-2d9165bef302"
      },
      "execution_count": null,
      "outputs": [
        {
          "output_type": "stream",
          "name": "stdout",
          "text": [
            "Train: 1.000, Test: 0.800\n"
          ]
        },
        {
          "output_type": "display_data",
          "data": {
            "text/plain": [
              "<Figure size 432x288 with 1 Axes>"
            ],
            "image/png": "[encoded data removed]"
          },
          "metadata": {
            "needs_background": "light"
          }
        }
      ]
    }
  ]
}