{
  "nbformat": 4,
  "nbformat_minor": 0,
  "metadata": {
    "colab": {
      "provenance": []
    },
    "kernelspec": {
      "name": "python3",
      "display_name": "Python 3"
    },
    "language_info": {
      "name": "python"
    }
  },
  "cells": [
    {
      "cell_type": "code",
      "source": [
        "from keras.layers.core import Activation, Dense, Dropout, SpatialDropout1D\n",
        "from tensorflow.keras.layers import Embedding\n",
        "from tensorflow.keras.layers import LSTM\n",
        "from keras.models import Sequential\n",
        "from tensorflow.keras.preprocessing import sequence\n",
        "from sklearn.model_selection import train_test_split\n",
        "import collections\n",
        "import matplotlib.pyplot as plt\n",
        "import nltk\n",
        "import os\n",
        "import pandas as pd\n",
        "from sklearn.feature_extraction.text import CountVectorizer\n",
        "import numpy as np\n",
        "nltk.download('punkt')"
      ],
      "metadata": {
        "colab": {
          "base_uri": "https://localhost:8080/"
        },
        "id": "OBVQ0cxl7mUk",
        "outputId": "a9d25961-fd19-4c54-b97f-8b964084a450"
      },
      "execution_count": null,
      "outputs": [
        {
          "output_type": "stream",
          "name": "stderr",
          "text": [
            "[nltk_data] Downloading package punkt to /root/nltk_data...\n",
            "[nltk_data]   Package punkt is already up-to-date!\n"
          ]
        },
        {
          "output_type": "execute_result",
          "data": {
            "text/plain": [
              "True"
            ]
          },
          "metadata": {},
          "execution_count": 9
        }
      ]
    },
    {
      "cell_type": "code",
      "source": [
        "train = pd.read_csv(\"/content/train.csv\")\n",
        "test = pd.read_csv(\"/content/test.csv\")\n"
      ],
      "metadata": {
        "id": "xHVcaThB8PbS"
      },
      "execution_count": null,
      "outputs": []
    },
    {
      "cell_type": "code",
      "source": [
        "x_train =train['sentence']\n",
        "y_train =train['label']\n",
        "\n",
        "\n",
        "vectorizer = CountVectorizer()\n",
        "x_train = vectorizer.fit_transform(train.sentence)\n",
        "x_test = vectorizer.transform(test.sentence)\n",
        "\n",
        "\n",
        "word_freq = pd.DataFrame({'Word': vectorizer.get_feature_names(), 'Count': x_train.toarray().sum(axis=0)})\n",
        "word_freq['Frequency'] = word_freq['Count'] / word_freq['Count'].sum()\n",
        "\n",
        "word_freq_sort = word_freq.sort_values(by='Frequency', ascending=False)\n",
        "word_freq_sort.head(10)\n",
        "\n",
        "\n",
        "maxlen = 0\n",
        "word_freqs = collections.Counter()\n",
        "num_recs = 0\n",
        "\n",
        "\n",
        "f = open(\"/content/train.csv\", \"rb\")\n",
        "for line in f:\n",
        "    sentence = str(line).split(\",\")[0]\n",
        "    words = nltk.word_tokenize(sentence.encode().decode(\"ascii\", \"ignore\").lower())\n",
        "    if len(words) > maxlen:\n",
        "        maxlen = len(words)\n",
        "    for word in words:\n",
        "        word_freqs[word] += 1\n",
        "    num_recs += 1\n",
        "f.close()\n",
        "print(\"Max number of words in a sentence: \", maxlen)\n",
        "print(\"Number of unqiue words: \", len(word_freqs))\n",
        "\n",
        "\n",
        "MAX_FEATURES = 1500\n",
        "MAX_SENTENCE_LENGTH = 40\n",
        "vocab_size = min(MAX_FEATURES, len(word_freqs)) + 2\n",
        "word2index = {x[0]: i+2 for i, x in enumerate(word_freqs.most_common(MAX_FEATURES))}\n",
        "word2index[\"PAD\"] = 0\n",
        "word2index[\"UNK\"] = 1\n",
        "index2word = {v:k for k, v in word2index.items()}\n",
        "\n",
        "X = np.empty((num_recs, ), dtype=list)\n",
        "Xt = []\n",
        "y = np.zeros((num_recs, ))\n",
        "i = 0\n",
        "\n",
        "f = open(\"/content/train.csv\", \"r\")\n",
        "next(f)\n",
        "fixed = []\n",
        "for line in f:\n",
        "    line_arr = line.split(\",\")\n",
        "    if len(line_arr) > 2:\n",
        "        line_arr[:len(line_arr)-1] = [\"\".join(line_arr[:len(line_arr)-1])]\n",
        "        fixed.append(line_arr)\n",
        "    else:\n",
        "        fixed.append(line_arr)\n",
        "\n",
        "for fline in fixed:\n",
        "        sentence = fline[0]\n",
        "        label = int(fline[1])\n",
        "        words = nltk.word_tokenize(sentence.encode().decode(\"ascii\", \"ignore\").lower())\n",
        "        seqs = []\n",
        "        for word in words:\n",
        "            if word in word2index:\n",
        "                seqs.append(word2index[word])\n",
        "            else:\n",
        "                seqs.append(word2index[\"UNK\"])\n",
        "        X[i] = seqs\n",
        "        y[i] = int(label)\n",
        "        i += 1\n",
        "f.close()\n",
        "\n",
        "# Convert every occurence of None to an empty list\n",
        "\n",
        "for i in range(0,X.shape[0]):\n",
        "    if X[i] == None:\n",
        "        X[i] = ()\n",
        "\n",
        "X = sequence.pad_sequences(X, maxlen=MAX_SENTENCE_LENGTH)\n",
        "\n",
        "\n",
        "# Get shape of X\n",
        "X.shape\n",
        "\n",
        "\n",
        "# Splitting our data\n",
        "X_train, X_test, Y_train, Y_test = train_test_split(X, y, test_size=0.2, random_state=42)\n",
        "\n",
        "\n",
        "EMBEDDING_SIZE = 128\n",
        "HIDDEN_LAYER_SIZE = 64\n",
        "BATCH_SIZE = 32\n",
        "NUM_EPOCHS = 10\n",
        "\n",
        "model = Sequential()\n",
        "model.add(Embedding(vocab_size, EMBEDDING_SIZE, input_length=MAX_SENTENCE_LENGTH))\n",
        "model.add(SpatialDropout1D(0.2))\n",
        "model.add(LSTM(HIDDEN_LAYER_SIZE, dropout=0.2, recurrent_dropout=0.2))\n",
        "model.add(Dense(1))\n",
        "model.add(Activation(\"sigmoid\"))\n",
        "\n",
        "model.compile(loss=\"binary_crossentropy\", optimizer=\"adam\", metrics=[\"accuracy\"])\n",
        "\n",
        "\n",
        "history = model.fit(X_train, Y_train, batch_size=BATCH_SIZE, epochs=NUM_EPOCHS, validation_data=(X_test, Y_test))\n",
        "\n",
        "\n",
        "# Plot loss and accuracy values over time\n",
        "plt.subplot(211)\n",
        "plt.title(\"Accuracy\")\n",
        "plt.plot(history.history[\"accuracy\"], color=\"g\", label=\"Train\")\n",
        "plt.plot(history.history[\"val_accuracy\"], color=\"b\", label=\"Validation\")\n",
        "plt.legend(loc=\"best\")\n",
        "\n",
        "plt.subplot(212)\n",
        "plt.title(\"Loss\")\n",
        "plt.plot(history.history[\"loss\"], color=\"g\", label=\"Train\")\n",
        "plt.plot(history.history[\"val_loss\"], color=\"b\", label=\"Validation\")\n",
        "plt.legend(loc=\"best\")\n",
        "\n",
        "plt.tight_layout()\n",
        "plt.show()\n",
        "\n",
        "\n",
        "score, acc = model.evaluate(X_test, Y_test, batch_size=BATCH_SIZE)\n",
        "print(\"Test score: %.3f, accuracy: %.3f\" % (score, acc))\n",
        "\n",
        "for i in range(5):\n",
        "    idx = np.random.randint(len(X_test))\n",
        "    xtest = X_test[idx].reshape(1, 40)\n",
        "    ylabel = Y_test[idx]\n",
        "    ypred = model.predict(xtest)[0][0]\n",
        "    sent = \" \".join([index2word[x] for x in xtest[0].tolist() if x != 0])\n",
        "    print(\"%.0f - %d - %s\" % (ypred, ylabel, sent))\n",
        "\n"
      ],
      "metadata": {
        "colab": {
          "base_uri": "https://localhost:8080/",
          "height": 942
        },
        "id": "uOSJzFe38s1q",
        "outputId": "ccb4f645-6ff2-44f2-8b81-b54ea98dffaf"
      },
      "execution_count": null,
      "outputs": [
        {
          "output_type": "stream",
          "name": "stderr",
          "text": [
            "/usr/local/lib/python3.8/dist-packages/sklearn/utils/deprecation.py:87: FutureWarning: Function get_feature_names is deprecated; get_feature_names is deprecated in 1.0 and will be removed in 1.2. Please use get_feature_names_out instead.\n",
            "  warnings.warn(msg, category=FutureWarning)\n"
          ]
        },
        {
          "output_type": "stream",
          "name": "stdout",
          "text": [
            "Max number of words in a sentence:  41\n",
            "Number of unqiue words:  1545\n",
            "Epoch 1/10\n",
            "142/142 [==============================] - 13s 73ms/step - loss: 0.2710 - accuracy: 0.8871 - val_loss: 0.0636 - val_accuracy: 0.9850\n",
            "Epoch 2/10\n",
            "142/142 [==============================] - 7s 49ms/step - loss: 0.0368 - accuracy: 0.9883 - val_loss: 0.0410 - val_accuracy: 0.9877\n",
            "Epoch 3/10\n",
            "142/142 [==============================] - 8s 58ms/step - loss: 0.0097 - accuracy: 0.9982 - val_loss: 0.0462 - val_accuracy: 0.9841\n",
            "Epoch 4/10\n",
            "142/142 [==============================] - 7s 46ms/step - loss: 0.0060 - accuracy: 0.9987 - val_loss: 0.0450 - val_accuracy: 0.9824\n",
            "Epoch 5/10\n",
            "142/142 [==============================] - 7s 51ms/step - loss: 0.0108 - accuracy: 0.9960 - val_loss: 0.0580 - val_accuracy: 0.9806\n",
            "Epoch 6/10\n",
            "142/142 [==============================] - 7s 50ms/step - loss: 0.0061 - accuracy: 0.9980 - val_loss: 0.0214 - val_accuracy: 0.9903\n",
            "Epoch 7/10\n",
            "142/142 [==============================] - 7s 47ms/step - loss: 0.0012 - accuracy: 1.0000 - val_loss: 0.0280 - val_accuracy: 0.9921\n",
            "Epoch 8/10\n",
            "142/142 [==============================] - 8s 55ms/step - loss: 5.9763e-04 - accuracy: 0.9998 - val_loss: 0.0250 - val_accuracy: 0.9912\n",
            "Epoch 9/10\n",
            "142/142 [==============================] - 6s 46ms/step - loss: 3.4214e-04 - accuracy: 1.0000 - val_loss: 0.0295 - val_accuracy: 0.9903\n",
            "Epoch 10/10\n",
            "142/142 [==============================] - 7s 51ms/step - loss: 2.7917e-04 - accuracy: 1.0000 - val_loss: 0.0299 - val_accuracy: 0.9921\n"
          ]
        },
        {
          "output_type": "display_data",
          "data": {
            "text/plain": [
              "<Figure size 432x288 with 2 Axes>"
            ],
            "image/png": "[encoded data removed]"
          },
          "metadata": {
            "needs_background": "light"
          }
        },
        {
          "output_type": "stream",
          "name": "stdout",
          "text": [
            "36/36 [==============================] - 0s 7ms/step - loss: 0.0299 - accuracy: 0.9921\n",
            "Test score: 0.030, accuracy: 0.992\n",
            "1/1 [==============================] - 0s 218ms/step\n",
            "1 - 1 - the da vinci code was absolutely awesome !\n",
            "1/1 [==============================] - 0s 20ms/step\n",
            "0 - 0 - and better .. -we all know da vinci code is bogus and inaccurate .\n",
            "1/1 [==============================] - 0s 18ms/step\n",
            "0 - 1 - `` im sick of books right now but i must say da vinci code was awesome .. ''\n",
            "1/1 [==============================] - 0s 20ms/step\n",
            "0 - 0 - da vinci code sucked ..\n",
            "1/1 [==============================] - 0s 19ms/step\n",
            "0 - 0 - we went to see brokeback mountain-which was kinda horrible lol ...\n"
          ]
        }
      ]
    }
  ]
}